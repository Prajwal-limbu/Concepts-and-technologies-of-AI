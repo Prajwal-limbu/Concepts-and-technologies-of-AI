{
  "cells": [
    {
      "cell_type": "markdown",
      "source": [
        "Task 1 and 2. Classify Temperatures:\n"
      ],
      "metadata": {
        "id": "IweCSLZyGY6y"
      },
      "id": "IweCSLZyGY6y"
    },
    {
      "cell_type": "code",
      "execution_count": 1,
      "id": "cce31ccb-67ed-49dc-8560-ba967bf994b3",
      "metadata": {
        "colab": {
          "base_uri": "https://localhost:8080/"
        },
        "id": "cce31ccb-67ed-49dc-8560-ba967bf994b3",
        "outputId": "fa980155-d9b6-4682-eefc-b7874426c701"
      },
      "outputs": [
        {
          "output_type": "stream",
          "name": "stdout",
          "text": [
            "List of cold temperatures: [8.2, 7.9, 9.0, 8.5, 7.7, 8.4, 9.5, 8.1, 7.6, 8.0, 7.8, 8.7, 9.2, 8.3, 8.9, 7.8] and its count is 16\n",
            "List of mild temperatures: [14.1, 13.5, 13.0, 12.9, 13.3, 14.0, 13.4, 14.2, 12.8, 13.7, 13.6, 13.8, 13.9, 12.7, 13.1, 12.5] and its count is 16\n",
            "List of comfortable temperatures: [17.4, 18.0, 17.8, 16.5, 17.2, 16.7, 18.3, 17.9, 17.0, 16.8, 17.5, 17.1, 18.1, 16.4, 18.2, 16.6] and its count is 16 \n",
            "\n"
          ]
        }
      ],
      "source": [
        "temperatures = [8.2, 17.4, 14.1, 7.9, 18.0, 13.5, 9.0, 17.8, 13.0, 8.5,\n",
        "                16.5, 12.9, 7.7, 17.2, 13.3, 8.4, 16.7, 14.0, 9.5, 18.3,\n",
        "                13.4, 8.1, 17.9, 14.2, 7.6, 17.0, 12.8, 8.0, 16.8, 13.7,\n",
        "                7.8, 17.5, 13.6, 8.7, 17.1, 13.8, 9.2, 18.1, 13.9, 8.3,\n",
        "                16.4, 12.7, 8.9, 18.2, 13.1, 7.8, 16.6, 12.5]\n",
        "\n",
        "cold = []\n",
        "mild = []\n",
        "comfortable = []\n",
        "\n",
        "coldCount = 0\n",
        "mildCount = 0\n",
        "comfortableCount = 0\n",
        "\n",
        "for data in temperatures:\n",
        "    if data < 10:\n",
        "        cold.append(data)\n",
        "        coldCount += 1\n",
        "    elif 10 <= data < 15:\n",
        "        mild.append(data)\n",
        "        mildCount += 1\n",
        "    elif 15 <= data < 20:\n",
        "        comfortable.append(data)\n",
        "        comfortableCount += 1\n",
        "    else:\n",
        "        print(\"Temperature could not be added.\")\n",
        "\n",
        "print('List of cold temperatures:', cold, \"and its count is\", coldCount)\n",
        "print('List of mild temperatures:', mild, \"and its count is\", mildCount)\n",
        "print('List of comfortable temperatures:', comfortable, \"and its count is\", comfortableCount, '\\n')\n"
      ]
    },
    {
      "cell_type": "markdown",
      "source": [
        "Task 3. Convert Temperatures from Celsius to Fahrenheit"
      ],
      "metadata": {
        "id": "Ob4FiYN5HFk3"
      },
      "id": "Ob4FiYN5HFk3"
    },
    {
      "cell_type": "code",
      "source": [
        "newTempList = []\n",
        "\n",
        "for data in temperatures:\n",
        "    fahrenheit = (data * 9/5) + 32\n",
        "    newTempList.append(fahrenheit)\n",
        "\n",
        "print(\"Fahrenheit temperatures list is:\", newTempList)\n"
      ],
      "metadata": {
        "colab": {
          "base_uri": "https://localhost:8080/"
        },
        "id": "jgKFMKwLGsXk",
        "outputId": "c97cb802-6f03-45b1-ab69-9c50fe2d5c02"
      },
      "id": "jgKFMKwLGsXk",
      "execution_count": 2,
      "outputs": [
        {
          "output_type": "stream",
          "name": "stdout",
          "text": [
            "Fahrenheit temperatures list is: [46.76, 63.32, 57.379999999999995, 46.22, 64.4, 56.3, 48.2, 64.04, 55.4, 47.3, 61.7, 55.22, 45.86, 62.959999999999994, 55.94, 47.120000000000005, 62.059999999999995, 57.2, 49.1, 64.94, 56.120000000000005, 46.58, 64.22, 57.56, 45.68, 62.6, 55.04, 46.4, 62.24, 56.66, 46.04, 63.5, 56.48, 47.66, 62.78, 56.84, 48.56, 64.58, 57.02, 46.94, 61.519999999999996, 54.86, 48.02, 64.75999999999999, 55.58, 46.04, 61.88, 54.5]\n"
          ]
        }
      ]
    },
    {
      "cell_type": "markdown",
      "source": [
        "Task 4. Analyze Temperature Patterns by Time of Day:"
      ],
      "metadata": {
        "id": "bJymMNxNHO--"
      },
      "id": "bJymMNxNHO--"
    },
    {
      "cell_type": "code",
      "source": [
        "import matplotlib.pyplot as plt\n",
        "\n",
        "nightTemperatures = []\n",
        "eveningTemperatures = []\n",
        "dayTemperatures = []\n",
        "\n",
        "for data in temperatures:\n",
        "    if 0 <= data < 8:\n",
        "        nightTemperatures.append(data)\n",
        "    elif 8 <= data < 16:\n",
        "        eveningTemperatures.append(data)\n",
        "    elif 16 <= data < 24:\n",
        "        dayTemperatures.append(data)\n",
        "    else:\n",
        "        print(\"Temperature could not be classified in any time.\")\n",
        "\n",
        "avg_day_temp = sum(dayTemperatures) / len(dayTemperatures)\n",
        "\n",
        "print(\"Night temperatures:\", nightTemperatures)\n",
        "print(\"Evening temperatures:\", eveningTemperatures)\n",
        "print(\"Day temperatures:\", dayTemperatures)\n",
        "print('The average of daytime temperature is:', avg_day_temp, '\\n')\n",
        "\n",
        "plt.figure(figsize=(10, 6))\n",
        "plt.plot(range(len(dayTemperatures)), dayTemperatures, marker='o', label=\"Day Temperatures\")\n",
        "plt.axhline(y=avg_day_temp, color='r', linestyle='--', label=f\"Average Day Temp ({avg_day_temp:.2f}°C)\")\n",
        "\n",
        "plt.title(\"Day Temperatures with Average\")\n",
        "plt.xlabel(\"Day (Index)\")\n",
        "plt.ylabel(\"Temperature (°C)\")\n",
        "plt.legend()\n",
        "\n",
        "plt.show()\n"
      ],
      "metadata": {
        "colab": {
          "base_uri": "https://localhost:8080/",
          "height": 673
        },
        "id": "bXvpyFhzHPiH",
        "outputId": "ace84bb5-a1e8-4e43-a583-3adbec7cfeb7"
      },
      "id": "bXvpyFhzHPiH",
      "execution_count": 3,
      "outputs": [
        {
          "output_type": "stream",
          "name": "stdout",
          "text": [
            "Night temperatures: [7.9, 7.7, 7.6, 7.8, 7.8]\n",
            "Evening temperatures: [8.2, 14.1, 13.5, 9.0, 13.0, 8.5, 12.9, 13.3, 8.4, 14.0, 9.5, 13.4, 8.1, 14.2, 12.8, 8.0, 13.7, 13.6, 8.7, 13.8, 9.2, 13.9, 8.3, 12.7, 8.9, 13.1, 12.5]\n",
            "Day temperatures: [17.4, 18.0, 17.8, 16.5, 17.2, 16.7, 18.3, 17.9, 17.0, 16.8, 17.5, 17.1, 18.1, 16.4, 18.2, 16.6]\n",
            "The average of daytime temperature is: 17.343750000000004 \n",
            "\n"
          ]
        },
        {
          "output_type": "display_data",
          "data": {
            "text/plain": [
              "<Figure size 1000x600 with 1 Axes>"
            ],
            "image/png": "[encoded data removed]"
          },
          "metadata": {}
        }
      ]
    },
    {
      "cell_type": "markdown",
      "source": [
        "Task 1 - Sum of Nested Lists:"
      ],
      "metadata": {
        "id": "LNUX82FnHag4"
      },
      "id": "LNUX82FnHag4"
    },
    {
      "cell_type": "code",
      "execution_count": 4,
      "id": "b357b0ab-6609-46f8-957b-1a5bc4fd68ad",
      "metadata": {
        "colab": {
          "base_uri": "https://localhost:8080/"
        },
        "id": "b357b0ab-6609-46f8-957b-1a5bc4fd68ad",
        "outputId": "c457216f-0ba9-45e1-acd5-16234c191c59"
      },
      "outputs": [
        {
          "output_type": "stream",
          "name": "stdout",
          "text": [
            "The sum of all numbers in the nested list is: 36\n"
          ]
        }
      ],
      "source": [
        "def sum_nested_list(nested_list):\n",
        "    total = 0\n",
        "    for element in nested_list:\n",
        "        if isinstance(element, list):\n",
        "            total += sum_nested_list(element)\n",
        "        else:\n",
        "            total += element\n",
        "    return total\n",
        "\n",
        "nested_list = [1, [2, [3, 4], 5], 6, [7, 8]]\n",
        "result = sum_nested_list(nested_list)\n",
        "print(f\"The sum of all numbers in the nested list is: {result}\")\n"
      ]
    },
    {
      "cell_type": "markdown",
      "source": [
        "Task 2 - Generate All Permutations of a String:"
      ],
      "metadata": {
        "id": "Qv4cDgalH9o6"
      },
      "id": "Qv4cDgalH9o6"
    },
    {
      "cell_type": "code",
      "execution_count": null,
      "id": "7d012b20-af1d-44e9-8e83-5b8b439b86c8",
      "metadata": {
        "id": "7d012b20-af1d-44e9-8e83-5b8b439b86c8",
        "outputId": "f50b7342-6488-42ba-d54e-641e78342bed"
      },
      "outputs": [
        {
          "name": "stdout",
          "output_type": "stream",
          "text": [
            "['abc', 'acb', 'bac', 'bca', 'cab', 'cba']\n",
            "['aab', 'aba', 'baa']\n"
          ]
        }
      ],
      "source": [
        "def generate_permutations(s):\n",
        "    if len(s) == 1:\n",
        "        return [s]\n",
        "\n",
        "    permutations = []\n",
        "    for i, char in enumerate(s):\n",
        "\n",
        "        for perm in generate_permutations(s[:i] + s[i+1:]):\n",
        "            new_perm = char + perm\n",
        "            if new_perm not in permutations:\n",
        "                permutations.append(new_perm)\n",
        "\n",
        "    return permutations\n",
        "\n",
        "print(generate_permutations(\"abc\"))\n",
        "\n",
        "print(generate_permutations(\"aab\"))\n"
      ]
    },
    {
      "cell_type": "markdown",
      "source": [
        "Task 3 - Directory Size Calculation:"
      ],
      "metadata": {
        "id": "qVQ9zCKQII--"
      },
      "id": "qVQ9zCKQII--"
    },
    {
      "cell_type": "code",
      "execution_count": null,
      "id": "7dbe025a-5dca-47ee-a776-fd48c80aa88d",
      "metadata": {
        "id": "7dbe025a-5dca-47ee-a776-fd48c80aa88d",
        "outputId": "c1cd2ef1-d890-45cd-e3d1-261c9b967add"
      },
      "outputs": [
        {
          "name": "stdout",
          "output_type": "stream",
          "text": [
            "The total size of the directory is: 1400 KB\n"
          ]
        }
      ],
      "source": [
        "def calculate_directory_size(directory):\n",
        "    total_size = 0\n",
        "    for key, value in directory.items():\n",
        "        if isinstance(value, dict):\n",
        "            total_size += calculate_directory_size(value)\n",
        "        else:\n",
        "            total_size += value\n",
        "    return total_size\n",
        "\n",
        "directory_structure = {\n",
        "    \"file1.txt\": 200,\n",
        "    \"file2.txt\": 300,\n",
        "    \"subdir1\": {\n",
        "        \"file3.txt\": 400,\n",
        "        \"file4.txt\": 100\n",
        "    },\n",
        "    \"subdir2\": {\n",
        "        \"subsubdir1\": {\n",
        "            \"file5.txt\": 250\n",
        "        },\n",
        "        \"file6.txt\": 150\n",
        "    }\n",
        "}\n",
        "\n",
        "result = calculate_directory_size(directory_structure)\n",
        "print(f\"The total size of the directory is: {result} KB\")\n"
      ]
    },
    {
      "cell_type": "markdown",
      "source": [
        "Task 1 - Coin Change Problem:"
      ],
      "metadata": {
        "id": "73d09v9MIOsj"
      },
      "id": "73d09v9MIOsj"
    },
    {
      "cell_type": "code",
      "execution_count": null,
      "id": "a1aaf84e-126c-48b6-b4ae-4d90ee73de59",
      "metadata": {
        "id": "a1aaf84e-126c-48b6-b4ae-4d90ee73de59",
        "outputId": "c5f62cc3-5219-4b14-c818-35c8412f1345"
      },
      "outputs": [
        {
          "name": "stdout",
          "output_type": "stream",
          "text": [
            "The minimum number of coins needed to make the amount 11 is: 3\n"
          ]
        }
      ],
      "source": [
        "def min_coins(coins, amount):\n",
        "    dp = [float('inf')] * (amount + 1)\n",
        "    dp[0] = 0\n",
        "\n",
        "    for coin in coins:\n",
        "        for i in range(coin, amount + 1):\n",
        "            dp[i] = min(dp[i], dp[i - coin] + 1)\n",
        "    return dp[amount] if dp[amount] != float('inf') else -1\n",
        "\n",
        "coins = [1, 2, 5]\n",
        "amount = 11\n",
        "result = min_coins(coins, amount)\n",
        "print(f\"The minimum number of coins needed to make the amount {amount} is: {result}\")\n"
      ]
    },
    {
      "cell_type": "markdown",
      "source": [
        "Task 2 - Longest Common Subsequence (LCS):"
      ],
      "metadata": {
        "id": "xjX59F6DIXUT"
      },
      "id": "xjX59F6DIXUT"
    },
    {
      "cell_type": "code",
      "execution_count": null,
      "id": "87ded597-5fe0-4c76-93f2-0d8a19cf136f",
      "metadata": {
        "id": "87ded597-5fe0-4c76-93f2-0d8a19cf136f",
        "outputId": "6c1f7014-1834-4827-bfe6-aa436fd1ace3"
      },
      "outputs": [
        {
          "name": "stdout",
          "output_type": "stream",
          "text": [
            "The length of the LCS of 'abcde' and 'ace' is: 3\n"
          ]
        }
      ],
      "source": [
        "def longest_common_subsequence(s1, s2):\n",
        "    dp = [[0] * (len(s2) + 1) for _ in range(len(s1) + 1)]\n",
        "\n",
        "    for i in range(1, len(s1) + 1):\n",
        "        for j in range(1, len(s2) + 1):\n",
        "            if s1[i - 1] == s2[j - 1]:\n",
        "                dp[i][j] = dp[i - 1][j - 1] + 1\n",
        "            else:\n",
        "                dp[i][j] = max(dp[i - 1][j], dp[i][j - 1])\n",
        "\n",
        "    return dp[len(s1)][len(s2)]\n",
        "\n",
        "s1 = \"abcde\"\n",
        "s2 = \"ace\"\n",
        "result = longest_common_subsequence(s1, s2)\n",
        "print(f\"The length of the LCS of '{s1}' and '{s2}' is: {result}\")"
      ]
    },
    {
      "cell_type": "markdown",
      "source": [
        "Task 3 - 0/1 Knapsack Problem:"
      ],
      "metadata": {
        "id": "dNnuzDuOIYvv"
      },
      "id": "dNnuzDuOIYvv"
    },
    {
      "cell_type": "code",
      "execution_count": null,
      "id": "ba65465a-d1af-4da0-b6c0-bd423a9df040",
      "metadata": {
        "id": "ba65465a-d1af-4da0-b6c0-bd423a9df040",
        "outputId": "8f03a8a2-8f3d-4da8-82b3-987d1254124b"
      },
      "outputs": [
        {
          "name": "stdout",
          "output_type": "stream",
          "text": [
            "The maximum value that can be achieved within the weight capacity 7 is: 9\n"
          ]
        }
      ],
      "source": [
        "def knapsack(weights, values, capacity):\n",
        "\n",
        "    n = len(weights)\n",
        "    dp = [[0 for _ in range(capacity + 1)] for _ in range(n + 1)]\n",
        "\n",
        "    for i in range(1, n + 1):\n",
        "        for w in range(1, capacity + 1):\n",
        "            if weights[i - 1] <= w:\n",
        "                dp[i][w] = max(dp[i - 1][w], dp[i - 1][w - weights[i - 1]] + values[i - 1])\n",
        "            else:\n",
        "                dp[i][w] = dp[i - 1][w]\n",
        "\n",
        "    return dp[n][capacity]\n",
        "weights = [1, 3, 4, 5]\n",
        "values = [1, 4, 5, 7]\n",
        "capacity = 7\n",
        "result = knapsack(weights, values, capacity)\n",
        "print(f\"The maximum value that can be achieved within the weight capacity {capacity} is: {result}\")\n"
      ]
    }
  ],
  "metadata": {
    "kernelspec": {
      "display_name": "Python 3 (ipykernel)",
      "language": "python",
      "name": "python3"
    },
    "language_info": {
      "codemirror_mode": {
        "name": "ipython",
        "version": 3
      },
      "file_extension": ".py",
      "mimetype": "text/x-python",
      "name": "python",
      "nbconvert_exporter": "python",
      "pygments_lexer": "ipython3",
      "version": "3.12.7"
    },
    "colab": {
      "provenance": []
    }
  },
  "nbformat": 4,
  "nbformat_minor": 5
}